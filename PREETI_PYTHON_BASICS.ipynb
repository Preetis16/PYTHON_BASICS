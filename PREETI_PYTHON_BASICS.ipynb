{
  "nbformat": 4,
  "nbformat_minor": 0,
  "metadata": {
    "colab": {
      "provenance": []
    },
    "kernelspec": {
      "name": "python3",
      "display_name": "Python 3"
    },
    "language_info": {
      "name": "python"
    }
  },
  "cells": [
    {
      "cell_type": "markdown",
      "source": [
        "#PYTHON BASICS"
      ],
      "metadata": {
        "id": "I9iHHpmxTjnY"
      }
    },
    {
      "cell_type": "markdown",
      "source": [
        "1. Write a Python program to print \"Hello, World\" ?"
      ],
      "metadata": {
        "id": "aPqaGdRITtOZ"
      }
    },
    {
      "cell_type": "code",
      "source": [
        "print(\"Hello, World\")"
      ],
      "metadata": {
        "colab": {
          "base_uri": "https://localhost:8080/"
        },
        "id": "ANKSDbyKTn3S",
        "outputId": "80198013-932c-489a-e22c-297f63b8b912"
      },
      "execution_count": 1,
      "outputs": [
        {
          "output_type": "stream",
          "name": "stdout",
          "text": [
            "Hello, World\n"
          ]
        }
      ]
    },
    {
      "cell_type": "markdown",
      "source": [
        "2. Write a Python program that displays your name and age?"
      ],
      "metadata": {
        "id": "jw1c6TV0T2sx"
      }
    },
    {
      "cell_type": "code",
      "execution_count": 2,
      "metadata": {
        "colab": {
          "base_uri": "https://localhost:8080/"
        },
        "id": "rnsKNUk0Tf2w",
        "outputId": "e165ceb2-eba3-48c0-d99b-41fc35f5d46e"
      },
      "outputs": [
        {
          "output_type": "stream",
          "name": "stdout",
          "text": [
            "enter your namePREETI\n",
            "enter your age27\n",
            "My name is PREETI and I am 27 years old.\n",
            "My name is PREETI and I am 27 years old.\n"
          ]
        }
      ],
      "source": [
        "name = input(\"enter your name\")  # Replace \"Your Name Here\" with your actual name\n",
        "age = int(input(\"enter your age\"))  # Replace 25 with your actual age\n",
        "\n",
        "print(\"My name is\", name, \"and I am\", age, \"years old.\")\n",
        "\n",
        "# Or, using f-strings (more modern and often preferred):\n",
        "print(f\"My name is {name} and I am {age} years old.\")"
      ]
    },
    {
      "cell_type": "markdown",
      "source": [
        "3. Write code to print all the pre-defined keywords in Python using the keyword library?"
      ],
      "metadata": {
        "id": "iPjE8HfPUE6U"
      }
    },
    {
      "cell_type": "code",
      "source": [
        "import keyword\n",
        "\n",
        "print(keyword.kwlist)"
      ],
      "metadata": {
        "colab": {
          "base_uri": "https://localhost:8080/"
        },
        "id": "Ly558T50UJXd",
        "outputId": "786ed9e3-8ee9-4e91-d7f0-979c4ca4593b"
      },
      "execution_count": 3,
      "outputs": [
        {
          "output_type": "stream",
          "name": "stdout",
          "text": [
            "['False', 'None', 'True', 'and', 'as', 'assert', 'async', 'await', 'break', 'class', 'continue', 'def', 'del', 'elif', 'else', 'except', 'finally', 'for', 'from', 'global', 'if', 'import', 'in', 'is', 'lambda', 'nonlocal', 'not', 'or', 'pass', 'raise', 'return', 'try', 'while', 'with', 'yield']\n"
          ]
        }
      ]
    },
    {
      "cell_type": "markdown",
      "source": [
        "4. Write a program that checks if a given word is a Python keyword?"
      ],
      "metadata": {
        "id": "mH6-2QQYUO13"
      }
    },
    {
      "cell_type": "code",
      "source": [
        "import keyword\n",
        "def is_keyword(word):\n",
        "  return word in keyword.kwlist\n",
        "word_to_check = input(\"Enter a word: \")\n",
        "\n",
        "# Check if it's a keyword and print the result\n",
        "if is_keyword(word_to_check):\n",
        "    print(f\"'{word_to_check}' is a Python keyword.\")\n",
        "else:\n",
        "    print(f\"'{word_to_check}' is not a Python keyword.\")"
      ],
      "metadata": {
        "id": "UFGdMX1VUWs-"
      },
      "execution_count": null,
      "outputs": []
    },
    {
      "cell_type": "markdown",
      "source": [
        "5. Create a list and tuple in Python, and demonstrate how attempting to change an element works differently for each ?"
      ],
      "metadata": {
        "id": "VZZnyan2UcSI"
      }
    },
    {
      "cell_type": "code",
      "source": [
        "# Create a list\n",
        "my_list = [10, 20, 30, 40, 50]\n",
        "\n",
        "# Create a tuple\n",
        "my_tuple = (10, 20, 30, 40, 50)\n",
        "\n",
        "# Demonstrate changing an element in the list\n",
        "print(\"Original list:\", my_list)\n",
        "my_list[2] = 35  # Change the element at index 2\n",
        "print(\"Modified list:\", my_list)  # Output: [10, 20, 35, 40, 50]\n",
        "\n",
        "# Demonstrate attempting to change an element in the tuple\n",
        "print(\"\\nOriginal tuple:\", my_tuple)\n",
        "try:\n",
        "    my_tuple[2] = 35  # Try to change the element at index 2 (will cause an error)\n",
        "except TypeError as e:\n",
        "    print(\"Error:\", e)  # Output: TypeError: 'tuple' object does not support item assignment\n",
        "print(\"Tuple remains unchanged:\", my_tuple) # Output: (10, 20, 30, 40, 50)\n",
        "\n",
        "# Demonstrating that the tuple itself can not be changed, even if it contains a mutable object.\n",
        "# However, if it contains mutable objects, the mutable objects can be changed.\n",
        "tuple_with_list = (1, 2, [3, 4, 5])\n",
        "print(\"\\nTuple with a list:\", tuple_with_list)\n",
        "\n",
        "# Trying to change the tuple itself:\n",
        "# tuple_with_list[0] = 10 # This will raise TypeError\n",
        "\n",
        "# But we can change the list inside the tuple:\n",
        "tuple_with_list[2].append(6)\n",
        "print(\"Tuple with modified list:\", tuple_with_list) # Output: (1, 2, [3, 4, 5, 6])"
      ],
      "metadata": {
        "id": "eq7hVJB0Uhy4"
      },
      "execution_count": null,
      "outputs": []
    },
    {
      "cell_type": "markdown",
      "source": [
        "6. Write a function to demonstrate the behavior of mutable and immutable arguments?"
      ],
      "metadata": {
        "id": "pofGxW5AUpQO"
      }
    },
    {
      "cell_type": "code",
      "source": [
        "def modify_values(int_val, float_val, str_val, list_val, tuple_val, dict_val):\n",
        "    \"\"\"Demonstrates the behavior of mutable and immutable arguments.\n",
        "\n",
        "    Args:\n",
        "        int_val: An integer.\n",
        "        float_val: A float.\n",
        "        str_val: A string.\n",
        "        list_val: A list.\n",
        "        tuple_val: A tuple.\n",
        "        dict_val: A dictionary.\n",
        "    \"\"\"\n",
        "\n",
        "    print(\"Inside the function (before modifications):\")\n",
        "    print(\"Integer:\", int_val, id(int_val))\n",
        "    print(\"Float:\", float_val, id(float_val))\n",
        "    print(\"String:\", str_val, id(str_val))\n",
        "    print(\"List:\", list_val, id(list_val))\n",
        "    print(\"Tuple:\", tuple_val, id(tuple_val))\n",
        "    print(\"Dictionary:\", dict_val, id(dict_val))\n",
        "\n",
        "    # Modify the values\n",
        "    int_val += 5\n",
        "    float_val /= 2.0\n",
        "    str_val += \" added\"\n",
        "    list_val.append(60)\n",
        "    # tuple_val += (60,)  # This would create a new tuple!\n",
        "    # tuple_val[0] = 100 # This will raise a TypeError\n",
        "    dict_val[\"new_key\"] = \"new_value\"\n",
        "\n",
        "    print(\"\\nInside the function (after modifications):\")\n",
        "    print(\"Integer:\", int_val, id(int_val))  # New object created\n",
        "    print(\"Float:\", float_val, id(float_val))  # New object created\n",
        "    print(\"String:\", str_val, id(str_val))  # New object created\n",
        "    print(\"List:\", list_val, id(list_val))  # Same object modified\n",
        "    print(\"Tuple:\", tuple_val, id(tuple_val))  # Same object, can't be modified\n",
        "    print(\"Dictionary:\", dict_val, id(dict_val))  # Same object modified\n",
        "\n"
      ],
      "metadata": {
        "id": "hqlKZDVvUzu-"
      },
      "execution_count": null,
      "outputs": []
    },
    {
      "cell_type": "markdown",
      "source": [
        "7. same as question 6"
      ],
      "metadata": {
        "id": "sZcMtQ9VVCQI"
      }
    },
    {
      "cell_type": "markdown",
      "source": [
        "8. Write a program to demonstrate the use of logical operators ?"
      ],
      "metadata": {
        "id": "VNx8oumKVG-r"
      }
    },
    {
      "cell_type": "code",
      "source": [
        "x = 10\n",
        "y = 5\n",
        "z = 0\n",
        "# and operator\n",
        "print(f\"x > 0 and y > 0: {x > 0 and y > 0}\")\n",
        "# or operator\n",
        "print(f\"x > 0 or y > 0: {x > 0 or y > 0}\")\n",
        "# not operator\n",
        "print(f\"not z: {not z}\")\n",
        "# Combining logical operators\n",
        "print(f\"x > 0 and (y > 0 or z > 0): {x > 0 and (y > 0 or z > 0)}\")"
      ],
      "metadata": {
        "colab": {
          "base_uri": "https://localhost:8080/"
        },
        "id": "RBb-8c2RVLpb",
        "outputId": "b93e77b5-97c8-4b5d-f3d4-8a6dda335576"
      },
      "execution_count": 4,
      "outputs": [
        {
          "output_type": "stream",
          "name": "stdout",
          "text": [
            "x > 0 and y > 0: True\n",
            "x > 0 or y > 0: True\n",
            "not z: True\n",
            "x > 0 and (y > 0 or z > 0): True\n"
          ]
        }
      ]
    },
    {
      "cell_type": "markdown",
      "source": [
        "9. Write a Python program to convert user input from string to integer, float, and boolean types?"
      ],
      "metadata": {
        "id": "4c9SNNCaVQB5"
      }
    },
    {
      "cell_type": "code",
      "source": [
        "user_input = (input(\"Enter a number\"))\n",
        "print_integer= int(user_input)\n",
        "user_input2 = float(input(\"Enter a value: \"))\n",
        "user_input3 = bool(input(\"Enter a value: \"))\n",
        "print(print_integer)\n",
        "print(user_input2)\n",
        "print(user_input3)"
      ],
      "metadata": {
        "id": "dyyocISxVUxs"
      },
      "execution_count": null,
      "outputs": []
    },
    {
      "cell_type": "markdown",
      "source": [
        "10. Write code to demonstrate type casting with list elements?"
      ],
      "metadata": {
        "id": "AQlpgBafVYvP"
      }
    },
    {
      "cell_type": "code",
      "source": [
        "#Convert string elements to integers\n",
        "string_list = [\"1\", \"2\", \"3\", \"4\", \"5\"]\n",
        "int_list = [int(element) for element in string_list]\n",
        "print(int_list)\n",
        "#Convert elements to float\n",
        "float_list = [float(element) for element in string_list]\n",
        "print(float_list)\n",
        "#Convert elements to boolean\n",
        "bool_list = [bool(element) for element in string_list]\n",
        "print(bool_list)"
      ],
      "metadata": {
        "colab": {
          "base_uri": "https://localhost:8080/"
        },
        "id": "EUwbi_LdVdj7",
        "outputId": "7b3d949a-bdc5-40d4-e0ec-1e8379e4b612"
      },
      "execution_count": 5,
      "outputs": [
        {
          "output_type": "stream",
          "name": "stdout",
          "text": [
            "[1, 2, 3, 4, 5]\n",
            "[1.0, 2.0, 3.0, 4.0, 5.0]\n",
            "[True, True, True, True, True]\n"
          ]
        }
      ]
    },
    {
      "cell_type": "markdown",
      "source": [
        "11. Write a program that checks if a number is positive, negative, or zero?"
      ],
      "metadata": {
        "id": "geMFPVhaViid"
      }
    },
    {
      "cell_type": "code",
      "source": [
        "num = float(input(\"Enter a number: \"))\n",
        "if num > 0:\n",
        "   print(\"Positive number\")\n",
        "elif num == 0:\n",
        "   print(\"Zero\")\n",
        "else:\n",
        "   print(\"Negative number\")"
      ],
      "metadata": {
        "id": "GnHPHesUVo6o"
      },
      "execution_count": null,
      "outputs": []
    },
    {
      "cell_type": "markdown",
      "source": [
        "12. Write a for loop to print numbers from 1 to 10?"
      ],
      "metadata": {
        "id": "SHh2nTtRVvqN"
      }
    },
    {
      "cell_type": "code",
      "source": [
        "# Method 1: Using range()\n",
        "\n",
        "for i in range(1, 11):  # range(start, stop) goes up to (but not including) stop\n",
        "    print(i)"
      ],
      "metadata": {
        "colab": {
          "base_uri": "https://localhost:8080/"
        },
        "id": "umA1qwamV0zy",
        "outputId": "d3c08245-a010-4c4d-fff0-30ba090b48e3"
      },
      "execution_count": 6,
      "outputs": [
        {
          "output_type": "stream",
          "name": "stdout",
          "text": [
            "1\n",
            "2\n",
            "3\n",
            "4\n",
            "5\n",
            "6\n",
            "7\n",
            "8\n",
            "9\n",
            "10\n"
          ]
        }
      ]
    },
    {
      "cell_type": "markdown",
      "source": [
        "13. Write a Python program to find the sum of all even numbers between 1 and 50?"
      ],
      "metadata": {
        "id": "4mYNX-BPV44W"
      }
    },
    {
      "cell_type": "code",
      "source": [
        "for i in range(1, 51):\n",
        "    if i % 2 == 0:\n",
        "        print(i)"
      ],
      "metadata": {
        "id": "0CtxYpoGV8hu"
      },
      "execution_count": null,
      "outputs": []
    },
    {
      "cell_type": "markdown",
      "source": [
        "14. Write a program to reverse a string using a while loop?"
      ],
      "metadata": {
        "id": "oGKssqfFWC48"
      }
    },
    {
      "cell_type": "code",
      "source": [
        "input_string = input(\"Enter a string: \")\n",
        "reversed_string = \"\"\n",
        "index = len(input_string) - 1\n",
        "\n",
        "while index >= 0:\n",
        "    reversed_string += input_string[index]\n",
        "    index -= 1\n",
        "print(\"Reversed string:\", reversed_string)"
      ],
      "metadata": {
        "id": "a8tB0OwbWIbD"
      },
      "execution_count": null,
      "outputs": []
    },
    {
      "cell_type": "markdown",
      "source": [
        "15. Write a Python program to calculate the factorial of a number provided by the user using a while loop?"
      ],
      "metadata": {
        "id": "NxZyO8M6WPEb"
      }
    },
    {
      "cell_type": "code",
      "source": [
        "try:\n",
        "    num = int(input(\"Enter a non-negative integer: \"))\n",
        "    fact = factorial(num)\n",
        "    print(f\"The factorial of {num} is {fact}\")\n",
        "except ValueError:\n",
        "    print(\"Invalid input. Please enter a valid non-negative integer.\")"
      ],
      "metadata": {
        "id": "Fqm-m2c0WTvv"
      },
      "execution_count": null,
      "outputs": []
    }
  ]
}